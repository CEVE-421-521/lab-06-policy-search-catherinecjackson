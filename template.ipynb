{
  "cells": [
    {
      "cell_type": "raw",
      "metadata": {},
      "source": [
        "---\n",
        "title: 'Lab 6: Policy Search'\n",
        "author: Catherine Jackson (ccj3)\n",
        "date: '2024-03-01'\n",
        "week: 7\n",
        "categories:\n",
        "  - Lab\n",
        "format:\n",
        "  html: default\n",
        "  pdf:\n",
        "    documentclass: article\n",
        "    fontsize: 11pt\n",
        "    geometry:\n",
        "      - margin=1in\n",
        "    number-sections: true\n",
        "    code-line-numbers: true\n",
        "date-format: 'ddd., MMM. D'\n",
        "execute:\n",
        "  cache: true\n",
        "  freeze: auto\n",
        "bibliography: references.bib\n",
        "---"
      ],
      "id": "d936cc44"
    },
    {
      "cell_type": "code",
      "metadata": {},
      "source": [
        "using Revise\n",
        "using HouseElevation\n",
        "\n",
        "using CSV\n",
        "using DataFrames\n",
        "using DataFramesMeta\n",
        "using Distributions\n",
        "using LaTeXStrings\n",
        "using Metaheuristics\n",
        "using Plots\n",
        "using Random\n",
        "using Unitful\n",
        "\n",
        "Plots.default(; margin=5Plots.mm)"
      ],
      "id": "fe9fd4b6",
      "execution_count": null,
      "outputs": []
    },
    {
      "cell_type": "markdown",
      "metadata": {},
      "source": [
        "# Lab 06 Background\n",
        "\n",
        "In lab-05, we demonstrated that a given decision performs differently under a range of plausible scenarios.  Consider how raising your house 10 feet will prevent a relatively high level of damages if the storm surge is high, but it might cost you more than it saves if future storm surge is low.\n",
        "\n",
        "However, this complicates analysis when scientists are uncertain what the future scenarios might look like.  In this way, it is necessary to *optimize over an uncertain future*. The best choice can be found by considering a range of possible future scenarios and choosing the decision that performs best on average.\n",
        "\n",
        "## Decision Variable\n",
        "\n",
        "Given that this lab optimizes over a range of uncertian futures, our decision variable is the elevation of the house itself. As mentioned in the lab assignment, this problem is simple enough that we can \"brute force\" serch over our possible elevations (e.g. 0 to 14 feet) to find the best solution.  \n",
        "\n",
        "## State(s) of the World\n",
        "\n",
        "In addition to the decision varible, we need to test over many different states of the world (e.g. different sea level rise outcomes, different storm surge values, and different discount rates).  The code below sets up slr_scenarios (the different plausible sea level rise scenarios), draw_surge_distribution (a function that generates a random surge GEV), draw_discount_rate (a function which draws a discount rate from a normal distribution), and the parameters of the house itself.\n",
        "\n",
        "At the end, the code draws N_SOW state of the worlds and saves them as sows.\n"
      ],
      "id": "f6396455"
    },
    {
      "cell_type": "code",
      "metadata": {},
      "source": [
        "#| output: false\n",
        "slr_scenarios = let\n",
        "    df = CSV.read(\"data/slr_oddo.csv\", DataFrame)\n",
        "    [Oddo17SLR(a, b, c, tstar, cstar) for (a, b, c, tstar, cstar) in eachrow(df)]\n",
        "end\n",
        "\n",
        "house = let\n",
        "    haz_fl_dept = CSV.read(\"data/haz_fl_dept.csv\", DataFrame) # read in the file\n",
        "    desc = \"two story, no basement, Structure\"\n",
        "    occ = \"RES1\"\n",
        "    src = \"USACE - Galveston\"\n",
        "    row = @rsubset(haz_fl_dept, :Description == desc, :Occupancy == occ, :Source == src)[1, :] \n",
        "    area = 881u\"ft^2\"\n",
        "    height_above_gauge = 4*u\"ft\"\n",
        "    House(row; area=area, height_above_gauge=height_above_gauge, value_usd=194_456)\n",
        "end\n",
        "\n",
        "p = ModelParams(; house=house, years=2024:2083)\n",
        "\n",
        "function draw_surge_distribution()\n",
        "    μ = rand(Normal(5, 1))\n",
        "    σ = rand(Exponential(1.5))\n",
        "    ξ = rand(Normal(0.1, 0.05))\n",
        "    return GeneralizedExtremeValue(μ, σ, ξ)\n",
        "end\n",
        "\n",
        "function draw_discount_rate()\n",
        "    draw = rand(Normal(0.04, 0.02))\n",
        "    if draw < 0\n",
        "        return 0.001\n",
        "    else\n",
        "        return draw\n",
        "    end\n",
        "end\n",
        "\n",
        "N_SOW = 100\n",
        "sows = [\n",
        "    SOW(rand(slr_scenarios), draw_surge_distribution(), draw_discount_rate()) for\n",
        "    _ in 1:N_SOW\n",
        "] "
      ],
      "id": "2a338147",
      "execution_count": null,
      "outputs": []
    },
    {
      "cell_type": "markdown",
      "metadata": {},
      "source": [
        "## Trapezoidal Integration vs. Monte Carlo\n",
        "\n",
        "We've been estimating yearly expected losses using a Monte Carlo method, which both takes many samples and is not as efficient. Using trapezoidal integration is a better methodology in that it is more accurate and takes less samples.\n",
        "\n",
        "Below, this new method is tested against the old Monte Carlo methodology.  The code below shows that the new run_sim can finish with around 150 evaluations in a year, while run_sim_old takes around 10,000.\n"
      ],
      "id": "94c7fb7b"
    },
    {
      "cell_type": "code",
      "metadata": {},
      "source": [
        "a = Action(3.0u\"ft\")\n",
        "sow = first(sows)\n",
        "_ = run_sim(a, sow, p)\n",
        "@time run_sim(a, sow, p)"
      ],
      "id": "082d18c5",
      "execution_count": null,
      "outputs": []
    },
    {
      "cell_type": "code",
      "metadata": {},
      "source": [
        "_ = HouseElevation.run_sim_old(a, sow, p)\n",
        "@time HouseElevation.run_sim_old(a, sow, p)"
      ],
      "id": "9a3f09c7",
      "execution_count": null,
      "outputs": []
    },
    {
      "cell_type": "markdown",
      "metadata": {},
      "source": [
        "## Metaheuristics.jl\n",
        "\n",
        "Next, the lab instructions discussed the use of a package, Metaheuristics.jl. This package is frequently used to solve optimization problems, including different optimization algorithms (including genetic algorithms). It gives an example of a function to optimize.\n",
        "\n",
        "$$\n",
        "f(\\mathbf{x}) = 10D + \\sum_{i=1}^{D} \\left( x_i^2 - 10 \\cos(2 \\pi x_i) \\right)\n",
        "$$\n",
        "where $\\mathbf{x} \\in [-5, 5]^D$, i.e., $-5 \\leq x_i \\leq 5$ for $i = 1, \\ldots, D$.\n",
        "\n",
        "The code below shows, visually, how the function values can be minimized.\n"
      ],
      "id": "0a2997e6"
    },
    {
      "cell_type": "code",
      "metadata": {},
      "source": [
        "f(x) = 10length(x) + sum(x .^ 2 - 10cos.(2π * x))\n",
        "let\n",
        "    x = range(-5; stop=5, length=1000)\n",
        "    y = range(-5; stop=5, length=1000)\n",
        "    z = [f([i, j]) for i in x, j in y]\n",
        "    surface(\n",
        "        x, y, z; xlabel=\"x1\", ylabel=\"x2\", zlabel=\"f(x)\", title=L\"Minimize $f(x)$ for $D=2$\"\n",
        "    )\n",
        "end"
      ],
      "id": "17877ce9",
      "execution_count": null,
      "outputs": []
    },
    {
      "cell_type": "markdown",
      "metadata": {},
      "source": [
        "This section also demonstrates other key features of the package.  First, **boxconstraints** is used to define the bounds of the decision variable, so we know that when we do our optimization later we use 0 to 14.  It also shows that Metaheuristics.jl is called with **optimize(funtion,bounds)**.  Furthermore, **minimizer** can be used to find which decision variable produced the minimum.  Additional options include adding a time limit and choosing an algorithm.\n",
        "\n",
        "In addition, a random seed sets up the \"random\" path taken through optimization, so if we set a specific seed we can get the same result every time we run the optimization.  This is useful for reproducibility.\n"
      ],
      "id": "7bb15d9d"
    },
    {
      "cell_type": "code",
      "metadata": {},
      "source": [
        "D = 10\n",
        "bounds = boxconstraints(; lb=-5ones(D), ub=5ones(D))\n",
        "result = optimize(f, bounds)\n",
        "minimizer(result)\n",
        "options = Options(; time_limit=10.0)\n",
        "algorithm = ECA(; options=options)\n",
        "Random.seed!(918)\n",
        "result = optimize(f, bounds, algorithm)"
      ],
      "id": "8f7f7cc6",
      "execution_count": null,
      "outputs": []
    },
    {
      "cell_type": "markdown",
      "metadata": {},
      "source": [
        "# Elevation Optimization\n",
        "\n",
        "We know that we want to optimize the elevation of the house over a range of different states of the world.  However, we need a specific function to optimize.  This functions tells us the utility of our choice (e.g. it is a function that tells us how good we are doing).  In this case, we set up an **objective_function** that takes in our choice and calculates (1) elevation construction costs and (2) predicted damages over our time period to determine the overall costs.  In this way, it tells us how much money we lose and how good our decision performed.\n",
        "\n",
        "First, though, we have to set up the states of the world on which the objective function is optimized:\n",
        "\n",
        "1. We set the random seed, as discussed above, so the \"random path\" is the same every time we run the optimization.  This gives us the same result every time we run the optimization.\n",
        "\n",
        "2. 100,000 states of the world are generated and saved as the variable sows.  \n",
        "\n",
        "3. This line takes this variable and pulls the first N_SOW_opt scenarios.\n"
      ],
      "id": "3cf2c915"
    },
    {
      "cell_type": "code",
      "metadata": {},
      "source": [
        "# output: false\n",
        "Random.seed!(2024) ; #<1>\n",
        "N_SOW = 100_000 ; #<2>\n",
        "sows = [\n",
        "    SOW(rand(slr_scenarios), draw_surge_distribution(), draw_discount_rate()) for _ in 1:N_SOW\n",
        "    ] ;\n",
        "N_SOW_opt = 500 ; #<3>\n",
        "sows_opt = sows[1:N_SOW_opt] ;"
      ],
      "id": "9ed33dfb",
      "execution_count": null,
      "outputs": []
    },
    {
      "cell_type": "markdown",
      "metadata": {},
      "source": [
        "Here we set up the objective function.\n",
        "\n",
        "1. The input is converted into an action (e.g. the elevation of the house with units of feet).\n",
        "\n",
        "2. Run_sim, our simulation with the faster trapezoidal methodology, is run over all states of the world for the action, a. The results are saved as expected_values.  Remembe that this is *the cost of elevating and the expected flood damages combined*.  We want to minimize this cost.\n",
        "\n",
        "3. We return the sum of the expected values.  Think of this as the cost of damages in every state of the world added together.  It measures how well the action performed across the board.\n"
      ],
      "id": "d26576ea"
    },
    {
      "cell_type": "code",
      "metadata": {},
      "source": [
        "function objective_function(a::Vector{Float64})\n",
        "    action = Action(a[1]*u\"ft\") #<1>\n",
        "\n",
        "    expected_values = [run_sim(action, sow, p) for sow in sows_opt] #<2>\n",
        "\n",
        "    return -sum(expected_values) #<3>\n",
        "end"
      ],
      "id": "79329c9f",
      "execution_count": null,
      "outputs": []
    },
    {
      "cell_type": "markdown",
      "metadata": {},
      "source": [
        "Below, the optimization can now be run on the function, objective_function.  We can optimize our decision variable, the action of elevation from 0 to 14 feet, across the different states of the world, using the objective function as our measure of how well we are doing.  The result is the elevation that minimizes the cost of damages and construction.  \n",
        "\n",
        "1. Here, we set limits on the decision variable, knowing we can only elevate between 0 and 14 feet.\n",
        "\n",
        "2. We set a time limit of 60 seconds for the optimization.  If it reaches 60 seconds, the optimization will terminate even if it has not converged.\n",
        "\n",
        "3. We set the algorithm to ECA, which is a type of genetic algorithm.  This is the algorithm that will be used to optimize the decision variable.\n",
        "\n",
        "4. The optimization is run and the result is saved as result.\n"
      ],
      "id": "1bec9969"
    },
    {
      "cell_type": "code",
      "metadata": {},
      "source": [
        "bounds = boxconstraints(; lb=0.0, ub=14.0) #<1>\n",
        "options = Options(; time_limit=60.0) #<2>\n",
        "algorithm = ECA(; options=options) #<3>\n",
        "result = optimize(objective_function, bounds, algorithm) #<4>"
      ],
      "id": "228e673f",
      "execution_count": null,
      "outputs": []
    },
    {
      "cell_type": "markdown",
      "metadata": {},
      "source": [
        "The code below provides a sanity check for the optimization.  It plots the objective function for a range of elevations (from 0 to 14 ft) using all your SOWs.  If the recommended elevation is the minimum, then we know the optimization worked.  \n",
        "\n",
        "1. The range of elevations is set from 0 to 14 feet.\n",
        "\n",
        "2. The objective function is calculated for each elevation in the range.\n",
        "\n",
        "3. The objective function is plotted.\n"
      ],
      "id": "cc3dd322"
    },
    {
      "cell_type": "code",
      "metadata": {},
      "source": [
        "elevations = range(0; stop=14, length=100) #<1>\n",
        "objective_values = [objective_function(e) for e in elevations] #<2>\n",
        "plot(elevations, objective_values; xlabel=\"Elevation (ft)\", ylabel=\"Objective function value\", label=\"\", title=\"Objective function for different elevations, \n",
        "Number of SOWs = $N_SOW_opt\") #<3>"
      ],
      "id": "b3228bb1",
      "execution_count": null,
      "outputs": []
    },
    {
      "cell_type": "markdown",
      "metadata": {},
      "source": [
        "This plot lines up with the minimizing elevation found by the optimizer: 13.239 feet.  It is the elevation that performs best when averaging across different plausible futures.\n",
        "\n",
        "At first, this value seemed high.  However, after discussing with Dr. Doss-Gollin, it seems that this high elevation is likely a representation of the fact that (1) this house is already valuable, so any percent damage causes high cost, (2) the discount rate, on average, is low, so we care a lot about future damages, and (3) the sea level rise scenarios seem to be high, putting the house at a high level of risk.\n",
        "\n",
        "In the end, then, it is clear that this house, being both of high value and close proximity to the water, should be elevated to a high level to avoid future damages.  It is worth it to elevate in order to avoid future flooding.\n",
        "\n",
        "# Conclusion\n",
        "\n",
        "Conclude your analysis by reflecting on the following questions\n",
        "\n",
        "1. How are we framing this problem? What are the decision variables, the objective function, and the states of the world over which we optimize?\n",
        "    Our decision variable is the height at which we elevate the house.  We want to know which elevation height finds the best balance between the cost of raising a home and the future flood damages we might avoid.  In this way, our objective function determines how much a given decision will cost us over a certain future time period.  We want to minimize this cost.  The states of the world are the different scenarios of sea level rise, storm surge, and discount rates that we might encounter in the future.  \n",
        "2. Digging deeper, we are averaging the objective function computed over a finite number of states of the world. This assumes that they are all drawn from a distribution representing the \"true\" distribution of states of the world. Is this a good assumption?\n",
        "    Scientists and researchers, though they can make valuable predictions, can never know for sure what the true distribution of the future state of the world is.  There will be unexpected outcomes, etc.  This model then uses our \"best guess\" of what the future might look like, but it may not necessarily be representative of the true future.  This is a limitation of our analysis.\n",
        "3. What's not being considered in this analysis that might be important?\n",
        "    There are of course many other added complexities that could be added to this model.  Given my background in flood modeling, I notice that this model considers storm surge, but it does not consider any flooding caused by rainfall.  Often, homes close to the coast are particularly vulnerable to *compound flooding* or the combined effects of storm surge and heavy rainfall (both pluvial and fluvial flooding).  This would be an interesting addition to the model.  \n",
        "    In addition, the model does not consider the potential for future mitigation measures.  As the home I study is in Galveston, it could be impacted by future projects like the Coastal Spine and the Galveston Bay Park Plan.\n",
        "    Finally, the model does not consider the potential for future land use changes (e.g. continuing development of the island)."
      ],
      "id": "c8d064fb"
    }
  ],
  "metadata": {
    "kernelspec": {
      "name": "julia-1.10",
      "language": "julia",
      "display_name": "Julia 1.10.0"
    }
  },
  "nbformat": 4,
  "nbformat_minor": 5
}